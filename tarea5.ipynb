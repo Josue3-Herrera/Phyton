{
 "cells": [
  {
   "cell_type": "markdown",
   "metadata": {},
   "source": [
    "***Ejercicio práctico 1:*** Crea una lista con tus películas favoritas y muestra la tercera película en la lista."
   ]
  },
  {
   "cell_type": "code",
   "execution_count": null,
   "metadata": {},
   "outputs": [],
   "source": [
    "# Crear una lista con películas favoritas\n",
    "peliculas_favoritas = [\n",
    "    \"Inception\",\n",
    "    \"The Matrix\",\n",
    "    \"Interstellar\",\n",
    "    \"The Shawshank Redemption\",\n",
    "    \"Pulp Fiction\"\n",
    "]\n",
    "\n",
    "# Mostrar la tercera película en la lista\n",
    "tercera_pelicula = peliculas_favoritas[2]  # Recuerda que los índices comienzan en 0\n",
    "print(f\"La tercera película en la lista es: {tercera_pelicula}\")"
   ]
  },
  {
   "cell_type": "markdown",
   "metadata": {},
   "source": [
    "***Ejercicio práctico 2:*** Dado un diccionario que guarda las calificaciones de un estudiante, calcula el promedio."
   ]
  },
  {
   "cell_type": "code",
   "execution_count": null,
   "metadata": {},
   "outputs": [],
   "source": [
    "# Diccionario que guarda las calificaciones de un estudiante\n",
    "calificaciones = {\n",
    "    \"Matemáticas\": 85,\n",
    "    \"Ciencias\": 90,\n",
    "    \"Historia\": 78,\n",
    "    \"Inglés\": 88,\n",
    "    \"Arte\": 92\n",
    "}\n",
    "\n",
    "# Función para calcular el promedio de las calificaciones\n",
    "def calcular_promedio(calificaciones):\n",
    "    total = sum(calificaciones.values())  # Suma todas las calificaciones\n",
    "    cantidad = len(calificaciones)  # Cuenta cuántas calificaciones hay\n",
    "    promedio = total / cantidad  # Calcula el promedio\n",
    "    return promedio\n",
    "\n",
    "# Calcular y mostrar el promedio\n",
    "promedio_calificaciones = calcular_promedio(calificaciones)\n",
    "print(f\"El promedio de las calificaciones es: {promedio_calificaciones:.2f}\")"
   ]
  },
  {
   "cell_type": "markdown",
   "metadata": {},
   "source": [
    "***Ejercicio práctico 3:*** Crea un conjunto con tus hobbies y agrega uno nuevo."
   ]
  },
  {
   "cell_type": "code",
   "execution_count": null,
   "metadata": {},
   "outputs": [],
   "source": [
    "# Crear un conjunto con mis hobbies\n",
    "hobbies = {\"leer\", \"correr\", \"cocinar\", \"viajar\"}\n",
    "\n",
    "# Mostrar los hobbies actuales\n",
    "print(\"Hobbies actuales:\", hobbies)\n",
    "\n",
    "# Agregar un nuevo hobby\n",
    "nuevo_hobby = \"fotografía\"\n",
    "hobbies.add(nuevo_hobby)\n",
    "\n",
    "# Mostrar los hobbies después de agregar el nuevo\n",
    "print(\"Hobbies después de agregar uno nuevo:\", hobbies)"
   ]
  }
 ],
 "metadata": {
  "kernelspec": {
   "display_name": "Python 3",
   "language": "python",
   "name": "python3"
  },
  "language_info": {
   "name": "python",
   "version": "3.12.6"
  }
 },
 "nbformat": 4,
 "nbformat_minor": 2
}
