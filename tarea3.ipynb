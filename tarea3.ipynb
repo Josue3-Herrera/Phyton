{
 "cells": [
  {
   "cell_type": "markdown",
   "metadata": {},
   "source": [
    "***Ejercicio práctico 1:*** Programa que pide al usuario ingresar un número y muestra si es par o impar."
   ]
  },
  {
   "cell_type": "code",
   "execution_count": null,
   "metadata": {},
   "outputs": [],
   "source": [
    "# Solicitar al usuario que ingrese un número\n",
    "numero = int(input(\"Por favor, ingresa un número: \"))\n",
    "\n",
    "# Determinar si el número es par o impar\n",
    "if numero % 2 == 0:\n",
    "    print(f\"El número {numero} es par.\")\n",
    "else:\n",
    "    print(f\"El número {numero} es impar.\")"
   ]
  },
  {
   "cell_type": "markdown",
   "metadata": {},
   "source": [
    "***Ejercicio práctico 2:*** Programa que imprime los primeros 10 números de la serie Fibonacci."
   ]
  },
  {
   "cell_type": "code",
   "execution_count": 1,
   "metadata": {},
   "outputs": [
    {
     "name": "stdout",
     "output_type": "stream",
     "text": [
      "Los primeros 10 números de la serie Fibonacci son:\n",
      "0 1 1 2 3 5 8 13 21 34 "
     ]
    }
   ],
   "source": [
    "# Inicializar los primeros dos números de la serie Fibonacci\n",
    "a, b = 0, 1\n",
    "\n",
    "# Imprimir los primeros 10 números de la serie Fibonacci\n",
    "print(\"Los primeros 10 números de la serie Fibonacci son:\")\n",
    "for _ in range(10):\n",
    "    print(a, end=' ')\n",
    "    a, b = b, a + b  # Actualizar los valores de a y b"
   ]
  },
  {
   "cell_type": "markdown",
   "metadata": {},
   "source": [
    "***Ejercicio práctico 3:*** Programa que pide al usuario un número n y muestra la suma de todos los números del 1 al n."
   ]
  },
  {
   "cell_type": "code",
   "execution_count": null,
   "metadata": {},
   "outputs": [],
   "source": [
    "# Solicitar al usuario que ingrese un número\n",
    "n = int(input(\"Por favor, ingresa un número entero positivo: \"))\n",
    "\n",
    "# Inicializar la suma\n",
    "suma = 0\n",
    "\n",
    "# Calcular la suma de los números del 1 al n\n",
    "for i in range(1, n + 1):\n",
    "    suma += i\n",
    "\n",
    "# Mostrar el resultado\n",
    "print(f\"La suma de todos los números del 1 al {n} es: {suma}\")"
   ]
  }
 ],
 "metadata": {
  "kernelspec": {
   "display_name": "Python 3",
   "language": "python",
   "name": "python3"
  },
  "language_info": {
   "codemirror_mode": {
    "name": "ipython",
    "version": 3
   },
   "file_extension": ".py",
   "mimetype": "text/x-python",
   "name": "python",
   "nbconvert_exporter": "python",
   "pygments_lexer": "ipython3",
   "version": "3.12.6"
  }
 },
 "nbformat": 4,
 "nbformat_minor": 2
}
