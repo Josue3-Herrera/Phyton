{
 "cells": [
  {
   "cell_type": "markdown",
   "metadata": {},
   "source": [
    "***Entrada y salida de datos***"
   ]
  },
  {
   "cell_type": "code",
   "execution_count": null,
   "metadata": {},
   "outputs": [],
   "source": [
    "archivo = open(\"juan.txt\", \"r\")"
   ]
  },
  {
   "cell_type": "code",
   "execution_count": null,
   "metadata": {},
   "outputs": [],
   "source": [
    "contenido = archivo.read()\n",
    "print(contenido)"
   ]
  },
  {
   "cell_type": "code",
   "execution_count": null,
   "metadata": {},
   "outputs": [],
   "source": [
    "archivo.seek(0)"
   ]
  },
  {
   "cell_type": "code",
   "execution_count": null,
   "metadata": {},
   "outputs": [],
   "source": [
    "linea = archivo.readline()\n",
    "print(linea)"
   ]
  },
  {
   "cell_type": "code",
   "execution_count": null,
   "metadata": {},
   "outputs": [],
   "source": [
    "lineas = archivo.readlines()\n",
    "print(lineas)"
   ]
  },
  {
   "cell_type": "code",
   "execution_count": null,
   "metadata": {},
   "outputs": [],
   "source": [
    "for linea in lineas:\n",
    "    print(linea)"
   ]
  },
  {
   "cell_type": "code",
   "execution_count": null,
   "metadata": {},
   "outputs": [],
   "source": [
    "archivo = open(\"juan.txt\", \"w\")\n",
    "archivo.write(\"Sobreescribo el archivo\\n\")"
   ]
  },
  {
   "cell_type": "code",
   "execution_count": null,
   "metadata": {},
   "outputs": [],
   "source": [
    "archivo = open(\"juan.txt\", \"a\")\n",
    "archivo.write(\"Agrego una nueva linea\\n\")"
   ]
  },
  {
   "cell_type": "code",
   "execution_count": null,
   "metadata": {},
   "outputs": [],
   "source": [
    "archivo = open(\"juan.txt\", \"r\")\n",
    "contenido = archivo.read()\n",
    "print(contenido)"
   ]
  },
  {
   "cell_type": "code",
   "execution_count": null,
   "metadata": {},
   "outputs": [],
   "source": [
    "tareas = [\"Tarea 1\", \"Tarea 2\", \"Tarea 3\"]"
   ]
  },
  {
   "cell_type": "code",
   "execution_count": null,
   "metadata": {},
   "outputs": [],
   "source": [
    "archivo = open(\"tareas.txt\", \"a\")\n",
    "\n",
    "for tarea in tareas:\n",
    "    archivo.write(tarea + \"\\n\")"
   ]
  },
  {
   "cell_type": "code",
   "execution_count": null,
   "metadata": {},
   "outputs": [],
   "source": [
    "archivo = open(\"tareas.txt\", \"r\")\n",
    "contenido = archivo.read()\n",
    "print(contenido)"
   ]
  },
  {
   "cell_type": "code",
   "execution_count": 34,
   "metadata": {},
   "outputs": [
    {
     "name": "stdout",
     "output_type": "stream",
     "text": [
      "Tarea agregada correctamente.\n",
      "Tarea agregada correctamente.\n",
      "Entrada cancelada.\n",
      "Contenido actual de tareas:\n",
      "Tarea 1\n",
      "Tarea 2\n",
      "Tarea 3\n",
      "Tarea 5\n",
      "Tarea 9\n",
      "Tarea6\n",
      "Tarea 7\n",
      "Tarea 10\n",
      "Tarea 12\n",
      "\n"
     ]
    }
   ],
   "source": [
    "while True:\n",
    "    nueva_tarea = input(\"Ingrese una nueva tarea: \")\n",
    "    \n",
    "    # Cancelar\n",
    "    if nueva_tarea == \"\":\n",
    "        print(\"Entrada cancelada.\")\n",
    "        break\n",
    "    \n",
    "    # Numero\n",
    "    if nueva_tarea.isdigit():\n",
    "        print(\"Se ha ingresado un número. Finalizando la entrada de tareas.\")\n",
    "        break\n",
    "    else:\n",
    "        with open(\"tareas.txt\", \"a\") as archivo:\n",
    "            archivo.write(nueva_tarea + \"\\n\")\n",
    "        print(\"Tarea agregada correctamente.\")\n",
    "\n",
    "# Mostrar archivo\n",
    "with open(\"tareas.txt\", \"r\") as archivo:\n",
    "    contenido = archivo.read()\n",
    "    print(\"Contenido actual de tareas:\")\n",
    "    print(contenido)"
   ]
  },
  {
   "cell_type": "code",
   "execution_count": null,
   "metadata": {},
   "outputs": [],
   "source": []
  }
 ],
 "metadata": {
  "kernelspec": {
   "display_name": "Python 3",
   "language": "python",
   "name": "python3"
  },
  "language_info": {
   "codemirror_mode": {
    "name": "ipython",
    "version": 3
   },
   "file_extension": ".py",
   "mimetype": "text/x-python",
   "name": "python",
   "nbconvert_exporter": "python",
   "pygments_lexer": "ipython3",
   "version": "3.12.6"
  }
 },
 "nbformat": 4,
 "nbformat_minor": 2
}
