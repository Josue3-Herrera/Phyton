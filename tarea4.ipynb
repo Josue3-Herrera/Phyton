{
 "cells": [
  {
   "cell_type": "markdown",
   "metadata": {},
   "source": [
    "***EjercicioEjercicio práctico 1:*** Crea una función que reciba una lista de números y retorne el mayor de ellos práctico 1: Crea una función que reciba una lista de números y retorne el mayor de ellos"
   ]
  },
  {
   "cell_type": "code",
   "execution_count": null,
   "metadata": {},
   "outputs": [],
   "source": [
    "def numero_mayor(lista):\n",
    "    return max(lista)\n",
    "\n",
    "numeros = [3, 1, 8, 4, 6]\n",
    "print(numero_mayor(numeros))  # Esto imprimirá \"8\" en la pantalla."
   ]
  },
  {
   "cell_type": "markdown",
   "metadata": {},
   "source": [
    "***Ejercicio práctico 2:*** Crea una función que convierta grados Celsius a Fahrenheit."
   ]
  },
  {
   "cell_type": "code",
   "execution_count": null,
   "metadata": {},
   "outputs": [],
   "source": [
    "def celsius_a_fahrenheit(grados_celsius):\n",
    "    # La fórmula para convertir Celsius a Fahrenheit es: (C * 9/5) + 32\n",
    "    grados_fahrenheit = (grados_celsius * 9/5) + 32\n",
    "    return grados_fahrenheit\n",
    "\n",
    "grados_celsius = 25"
   ]
  },
  {
   "cell_type": "markdown",
   "metadata": {},
   "source": [
    "***Ejercicio práctico 3:*** Usa una función lambda para calcular el área de un rectángulo."
   ]
  },
  {
   "cell_type": "code",
   "execution_count": null,
   "metadata": {},
   "outputs": [],
   "source": [
    "# Definimos la función lambda para calcular el área\n",
    "area_rectangulo = lambda base, altura: base * altura\n",
    "\n",
    "# Ejemplo de uso\n",
    "base = 5  # Puedes cambiar este valor\n",
    "altura = 3  # Puedes cambiar este valor\n",
    "area = area_rectangulo(base, altura)\n",
    "\n",
    "print(f\"El área del rectángulo con base {base} y altura {altura} es: {area}\")"
   ]
  }
 ],
 "metadata": {
  "kernelspec": {
   "display_name": "Python 3",
   "language": "python",
   "name": "python3"
  },
  "language_info": {
   "name": "python",
   "version": "3.12.6"
  }
 },
 "nbformat": 4,
 "nbformat_minor": 2
}
