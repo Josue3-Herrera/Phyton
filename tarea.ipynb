{
 "cells": [
  {
   "cell_type": "markdown",
   "metadata": {},
   "source": [
    "# Ejercicio 1"
   ]
  },
  {
   "cell_type": "code",
   "execution_count": 3,
   "metadata": {},
   "outputs": [
    {
     "name": "stdout",
     "output_type": "stream",
     "text": [
      "\n",
      "😬 ¡Hola, josue! 😬\n",
      "Tienes 20 años y vienes de puerto, por lo menos no vienes de Chiapas 🤢\n"
     ]
    }
   ],
   "source": [
    "nombre = input(\"¿Cómo te llamas? 👤: \")\n",
    "edad = input(f\"¡Mucho gusto, {nombre}! ¿Cuántos años tienes? 🎂: \")\n",
    "ciudad = input(\"¿De qué ciudad vienes? 🏙️: \")\n",
    "\n",
    "print(f\"\\n😬 ¡Hola, {nombre}! 😬\")\n",
    "print(f\"Tienes {edad} años y vienes de {ciudad}, por lo menos no vienes de Chiapas 🤢\")\n"
   ]
  },
  {
   "cell_type": "markdown",
   "metadata": {},
   "source": [
    "# Ejercicio 2"
   ]
  },
  {
   "cell_type": "code",
   "execution_count": null,
   "metadata": {},
   "outputs": [
    {
     "name": "stdout",
     "output_type": "stream",
     "text": [
      "\n",
      "📊 Aquí están los resultados de tus operaciones:\n",
      "\n",
      "➕ Suma: 6.0 + 9.0 = 15.0\n",
      "➖ Resta: 6.0 - 9.0 = -3.0\n",
      "✖️ Multiplicación: 6.0 × 9.0 = 54.0\n"
     ]
    }
   ],
   "source": [
    "num1 = float(input(\"👉 Ingresa el primer número: \"))\n",
    "num2 = float(input(\"👉 Ingresa el segundo número: \"))\n",
    "\n",
    "print(\"\\n📊 Aquí están los resultados de tus operaciones:\\n\")\n",
    "print(f\"➕ Suma: {num1} + {num2} = {num1 + num2}\")\n",
    "print(f\"➖ Resta: {num1} - {num2} = {num1 - num2}\")\n",
    "print(f\"✖️ Multiplicación: {num1} × {num2} = {num1 * num2}\")\n",
    "print(f\"➗ División: {num1} ÷ {num2} = {num1 / num2}\")"
   ]
  }
 ],
 "metadata": {
  "kernelspec": {
   "display_name": "Python 3",
   "language": "python",
   "name": "python3"
  },
  "language_info": {
   "codemirror_mode": {
    "name": "ipython",
    "version": 3
   },
   "file_extension": ".py",
   "mimetype": "text/x-python",
   "name": "python",
   "nbconvert_exporter": "python",
   "pygments_lexer": "ipython3",
   "version": "3.12.6"
  }
 },
 "nbformat": 4,
 "nbformat_minor": 2
}
