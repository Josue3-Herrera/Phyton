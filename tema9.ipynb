{
 "cells": [
  {
   "cell_type": "markdown",
   "metadata": {},
   "source": [
    "***Tema 9 Clases y Objetos (Programación Orientada a Objetos)***"
   ]
  },
  {
   "cell_type": "code",
   "execution_count": null,
   "metadata": {},
   "outputs": [],
   "source": [
    "class Pokemon:\n",
    "    nombre = \"\"\n",
    "    tipo = \"\"\n",
    "    ph = 0\n",
    "    ataque = 0\n",
    "    defensa = 0\n",
    "    velocidad = 0\n",
    "\n",
    "    def describir(self):\n",
    "        print(f\"Nombre: {self.nombre}\")\n",
    "        print(f\"Tipo: {self.tipo}\")\n",
    "        print(f\"Puntos de vida: {self.ph}\")\n",
    "        print(f\"Ataque: {self.ataque}\")\n",
    "        print(f\"Defensa: {self.defensa}\")\n",
    "        print(f\"Velocidad: {self.velocidad}\")"
   ]
  },
  {
   "cell_type": "code",
   "execution_count": null,
   "metadata": {},
   "outputs": [],
   "source": [
    "pokemon1 = Pokemon()\n",
    "pokemon1.nombre = \"Pikachu\"\n",
    "pokemon1.tipo = \"Electrico\"\n",
    "pokemon1.ph = 60\n",
    "pokemon1.ataque = 55\n",
    "pokemon1.defensa = 40\n",
    "pokemon1.velocidad = 90\n",
    "pokemon1.describir()\n",
    "\n",
    "pokemon2 = Pokemon()\n",
    "pokemon2.nombre = \"Charmander\"\n",
    "pokemon2.tipo = \"Fuego\"\n",
    "pokemon2.ph = 39\n",
    "pokemon2.ataque = 52\n",
    "pokemon2.defensa = 43  \n",
    "pokemon2.velocidad = 65"
   ]
  },
  {
   "cell_type": "code",
   "execution_count": 14,
   "metadata": {},
   "outputs": [],
   "source": [
    "class Pokemones:\n",
    "    def __init__(self, nombre, tipo, ph, ataque, defensa, velocidad):\n",
    "        self.nombre = nombre\n",
    "        self.tipo = tipo\n",
    "        self.ph = ph\n",
    "        self.ataque = ataque\n",
    "        self.defensa = defensa\n",
    "        self.velocidad = velocidad\n",
    "\n",
    "    def describir(self):\n",
    "        print(f\"Nombre: {self.nombre}\")\n",
    "        print(f\"Tipo: {self.tipo}\")\n",
    "        print(f\"Puntos de vida: {self.ph}\")\n",
    "        print(f\"Ataque: {self.ataque}\")\n",
    "        print(f\"Defensa: {self.defensa}\")\n",
    "        print(f\"Velocidad: {self.velocidad}\")\n",
    "\n",
    "    def ataque_fuego(self):\n",
    "        print(f\"{self.nombre} ataca con fuego\")\n",
    "\n",
    "    def ataque_agua(self):\n",
    "        print(f\"{self.nombre} ataca con agua\")"
   ]
  },
  {
   "cell_type": "code",
   "execution_count": 15,
   "metadata": {},
   "outputs": [
    {
     "name": "stdout",
     "output_type": "stream",
     "text": [
      "Nombre: Charmander\n",
      "Tipo: Fuego\n",
      "Puntos de vida: 39\n",
      "Ataque: 52\n",
      "Defensa: 43\n",
      "Velocidad: 65\n",
      "Charmander ataca con fuego\n",
      "Nombre: squirtle\n",
      "Tipo: Agua\n",
      "Puntos de vida: 44\n",
      "Ataque: 48\n",
      "Defensa: 65\n",
      "Velocidad: 43\n",
      "squirtle ataca con agua\n",
      "El pokemon ataca con agua\n",
      "Charmander ataca con agua\n"
     ]
    }
   ],
   "source": [
    "pokemon2 = Pokemones(\"Charmander\", \"Fuego\", 39, 52, 43, 65)\n",
    "pokemon3 = Pokemones(\"squirtle\", \"Agua\", 44, 48, 65, 43)\n",
    "pokemon2.describir()\n",
    "pokemon2.ataque_fuego()\n",
    "\n",
    "pokemon3.describir()\n",
    "pokemon3.ataque_agua()\n",
    "\n",
    "if pokemon3.tipo == \"Fuego\":\n",
    "    print(\"El pokemon ataca con fuego\")\n",
    "    pokemon2.ataque_fuego()\n",
    "elif(pokemon3.tipo == \"Agua\"):\n",
    "    print(\"El pokemon ataca con agua\")\n",
    "    pokemon2.ataque_agua()"
   ]
  }
 ],
 "metadata": {
  "kernelspec": {
   "display_name": "Python 3",
   "language": "python",
   "name": "python3"
  },
  "language_info": {
   "codemirror_mode": {
    "name": "ipython",
    "version": 3
   },
   "file_extension": ".py",
   "mimetype": "text/x-python",
   "name": "python",
   "nbconvert_exporter": "python",
   "pygments_lexer": "ipython3",
   "version": "3.12.6"
  }
 },
 "nbformat": 4,
 "nbformat_minor": 2
}
