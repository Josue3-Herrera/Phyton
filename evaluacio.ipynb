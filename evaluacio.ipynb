{
 "cells": [
  {
   "cell_type": "markdown",
   "metadata": {},
   "source": [
    "Evaluacion "
   ]
  },
  {
   "cell_type": "code",
   "execution_count": null,
   "metadata": {},
   "outputs": [
    {
     "name": "stdout",
     "output_type": "stream",
     "text": [
      "Los datos han sido guardados correctamente.\n"
     ]
    }
   ],
   "source": [
    "import os\n",
    "\n",
    "class Spotify:\n",
    "    def __init__(self, nombre, artista, album, genero, duracion, año):\n",
    "        self.nombre = nombre\n",
    "        self.artista = artista\n",
    "        self.album = album\n",
    "        self.genero = genero\n",
    "        self.duracion = duracion \n",
    "        self.año = año\n",
    "\n",
    "    def guardar_datos(self):\n",
    "        # Crear archivo de nombre en la carpeta \"nombre\" con \"write\"\n",
    "        nombre_archivo = os.path.join(\"nombre\", f\"{self.nombre}.txt\")\n",
    "        with open(nombre_archivo, \"w\", encoding=\"utf-8\") as file:\n",
    "            file.write(f\"{self.nombre}\\n\")\n",
    "\n",
    "        # Crear archivo de categoría en la carpeta \"categorias\" con \"add\"\n",
    "        categoria_archivo = os.path.join(\"categorias\", f\"{self.genero}.txt\")\n",
    "        with open(categoria_archivo, \"a\", encoding=\"utf-8\") as file:\n",
    "            file.write(f\"Nombre: {self.nombre}\\nArtista: {self.artista}\\nÁlbum: {self.album}\\nGénero: {self.genero}\\nDuración: {self.duracion} minutos\\nAño: {self.año}\\n\\n\")\n",
    "\n",
    "# Terminal\n",
    "if __name__ == \"__main__\":\n",
    "    nombre = input(\"Ingrese el nombre de la canción: \")\n",
    "    artista = input(\"Ingrese el nombre del artista: \")\n",
    "    album = input(\"Ingrese el nombre del álbum: \")\n",
    "    genero = input(\"Ingrese el género musical: \")\n",
    "    duracion = input(\"Ingrese la duración en minutos: \")\n",
    "    año = input(\"Ingrese el año de lanzamiento: \")\n",
    "\n",
    "    cancion = Spotify(nombre, artista, album, genero, duracion, año)\n",
    "    cancion.guardar_datos()\n",
    "    print(\"Los datos han sido guardados correctamente.\") "
   ]
  },
  {
   "cell_type": "code",
   "execution_count": null,
   "metadata": {},
   "outputs": [],
   "source": []
  }
 ],
 "metadata": {
  "kernelspec": {
   "display_name": "Python 3",
   "language": "python",
   "name": "python3"
  },
  "language_info": {
   "codemirror_mode": {
    "name": "ipython",
    "version": 3
   },
   "file_extension": ".py",
   "mimetype": "text/x-python",
   "name": "python",
   "nbconvert_exporter": "python",
   "pygments_lexer": "ipython3",
   "version": "3.13.2"
  }
 },
 "nbformat": 4,
 "nbformat_minor": 2
}
