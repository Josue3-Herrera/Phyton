{
 "cells": [
  {
   "cell_type": "markdown",
   "metadata": {},
   "source": [
    "***Ejercicio práctico 1:*** Escribe un programa que solicite al usuario 3 números y muestre la división entre los 3, manejando posibles errores"
   ]
  },
  {
   "cell_type": "code",
   "execution_count": 12,
   "metadata": {},
   "outputs": [
    {
     "name": "stdout",
     "output_type": "stream",
     "text": [
      "Error en el segundo número: No fue al kinder, no se sabe los números 😂\n",
      "El resultado de la división es: 0.06666666666666667\n"
     ]
    }
   ],
   "source": [
    "try:\n",
    "    # primer número\n",
    "    num1 = float(input(\"Ingrese el primer número: \"))\n",
    "except ValueError:\n",
    "    print(\"Error en el primer número: No fue al kinder, no se sabe los números 😂\")\n",
    "\n",
    "try:\n",
    "    # segundo número\n",
    "    num2 = float(input(\"Ingrese el segundo número: \"))\n",
    "except ValueError:\n",
    "    print(\"Error en el segundo número: No fue al kinder, no se sabe los números 😂\")\n",
    "\n",
    "try:\n",
    "    # tercer número\n",
    "    num3 = float(input(\"Ingrese el tercer número: \"))\n",
    "except ValueError:\n",
    "    print(\"Error en el tercer número: No fue al kinder, no se sabe los números 😂\")\n",
    "\n",
    "try:\n",
    "    resultado = num1 / num2 / num3\n",
    "    print(f\"El resultado de la división es: {resultado}\")\n",
    "except ZeroDivisionError:\n",
    "    if num2 == 0:\n",
    "        print(\"Error en el segundo número: Que mensa, no se puede dividir por 0 🤨\")\n",
    "    elif num3 == 0:\n",
    "        print(\"Error en el tercer número: Que mensa, no se puede dividir por 0 🤨\")"
   ]
  }
 ],
 "metadata": {
  "kernelspec": {
   "display_name": "Python 3",
   "language": "python",
   "name": "python3"
  },
  "language_info": {
   "codemirror_mode": {
    "name": "ipython",
    "version": 3
   },
   "file_extension": ".py",
   "mimetype": "text/x-python",
   "name": "python",
   "nbconvert_exporter": "python",
   "pygments_lexer": "ipython3",
   "version": "3.12.6"
  }
 },
 "nbformat": 4,
 "nbformat_minor": 2
}
